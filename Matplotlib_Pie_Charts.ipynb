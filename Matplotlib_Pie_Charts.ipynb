{
  "nbformat": 4,
  "nbformat_minor": 0,
  "metadata": {
    "colab": {
      "name": "Matplotlib Pie Charts.ipynb",
      "provenance": [],
      "authorship_tag": "ABX9TyP9d/NUXDL2RQIMhvYDd0FF",
      "include_colab_link": true
    },
    "kernelspec": {
      "name": "python3",
      "display_name": "Python 3"
    },
    "language_info": {
      "name": "python"
    }
  },
  "cells": [
    {
      "cell_type": "markdown",
      "metadata": {
        "id": "view-in-github",
        "colab_type": "text"
      },
      "source": [
        "<a href=\"https://colab.research.google.com/github/SyedIzzatUllah/Matplotlib-Pie-Charts/blob/main/Matplotlib_Pie_Charts.ipynb\" target=\"_parent\"><img src=\"https://colab.research.google.com/assets/colab-badge.svg\" alt=\"Open In Colab\"/></a>"
      ]
    },
    {
      "cell_type": "markdown",
      "metadata": {
        "id": "aJ2AMiDBWLdW"
      },
      "source": [
        "# **Creating Pie Charts**\n",
        "\n",
        "With Pyplot, you can use the pie() function to draw pie charts:"
      ]
    },
    {
      "cell_type": "code",
      "metadata": {
        "colab": {
          "base_uri": "https://localhost:8080/",
          "height": 248
        },
        "id": "XleVAVeMWPpS",
        "outputId": "cb7a6417-ef53-47ba-f521-98b3f4245baf"
      },
      "source": [
        "import matplotlib.pyplot as plt\n",
        "import numpy as np\n",
        "\n",
        "y = np.array([35, 25, 25, 15])\n",
        "\n",
        "plt.pie(y)\n",
        "plt.show()"
      ],
      "execution_count": 1,
      "outputs": [
        {
          "output_type": "display_data",
          "data": {
            "image/png": "[encoded data removed]",
            "text/plain": [
              "<Figure size 432x288 with 1 Axes>"
            ]
          },
          "metadata": {
            "tags": []
          }
        }
      ]
    },
    {
      "cell_type": "markdown",
      "metadata": {
        "id": "dQMPyDL-WaRJ"
      },
      "source": [
        "# **Labels**\n",
        "\n",
        "Add labels to the pie chart with the label parameter.\n",
        "\n",
        "The label parameter must be an array with one label for each wedge:"
      ]
    },
    {
      "cell_type": "code",
      "metadata": {
        "colab": {
          "base_uri": "https://localhost:8080/",
          "height": 248
        },
        "id": "kouEdaGVWdY5",
        "outputId": "bac06bb3-d2da-4ec9-e33c-d42e0d5c7bec"
      },
      "source": [
        "import matplotlib.pyplot as plt\n",
        "import numpy as np\n",
        "\n",
        "y = np.array([35, 25, 25, 15])\n",
        "mylabels = [\"A\", \"B\", \"C\", \"D\"]\n",
        "\n",
        "plt.pie(y, labels = mylabels)\n",
        "plt.show() "
      ],
      "execution_count": 2,
      "outputs": [
        {
          "output_type": "display_data",
          "data": {
            "image/png": "[encoded data removed]",
            "text/plain": [
              "<Figure size 432x288 with 1 Axes>"
            ]
          },
          "metadata": {
            "tags": []
          }
        }
      ]
    },
    {
      "cell_type": "markdown",
      "metadata": {
        "id": "D8Lhm5YSWlc5"
      },
      "source": [
        "# **Explode**\n",
        "Maybe you want one of the wedges to stand out? The explode parameter allows you to do that.\n",
        "\n",
        "The explode parameter, if specified, and not None, must be an array with one value for each wedge.\n",
        "\n",
        "Each value represents how far from the center each wedge is displaye"
      ]
    },
    {
      "cell_type": "code",
      "metadata": {
        "colab": {
          "base_uri": "https://localhost:8080/",
          "height": 248
        },
        "id": "1DMui4YsWsh6",
        "outputId": "282da3ec-a06d-4a24-a235-487496cae4c7"
      },
      "source": [
        "import matplotlib.pyplot as plt\n",
        "import numpy as np\n",
        "\n",
        "y = np.array([35, 25, 25, 15])\n",
        "mylabels = [\"A\", \"B\", \"C\", \"D\"]\n",
        "myexplode = [0.2, 0, 0, 0]\n",
        "\n",
        "plt.pie(y, labels = mylabels, explode = myexplode)\n",
        "plt.show() "
      ],
      "execution_count": 4,
      "outputs": [
        {
          "output_type": "display_data",
          "data": {
            "image/png": "[encoded data removed]",
            "text/plain": [
              "<Figure size 432x288 with 1 Axes>"
            ]
          },
          "metadata": {
            "tags": []
          }
        }
      ]
    },
    {
      "cell_type": "markdown",
      "metadata": {
        "id": "i8xhqOW3W_20"
      },
      "source": [
        "# **With Header**\n",
        "To add a header to the legend, add the title parameter to the legend function."
      ]
    },
    {
      "cell_type": "code",
      "metadata": {
        "colab": {
          "base_uri": "https://localhost:8080/",
          "height": 248
        },
        "id": "OZXMRu2gXCMq",
        "outputId": "49519de2-9257-44f7-ddf6-99c66d8eb82a"
      },
      "source": [
        "import matplotlib.pyplot as plt\n",
        "import numpy as np\n",
        "\n",
        "y = np.array([35, 25, 25, 15])\n",
        "mylabels = [\"A\", \"B\", \"C\", \"D\"]\n",
        "\n",
        "plt.pie(y, labels = mylabels)\n",
        "plt.legend(title = \"Four Alpha:\")\n",
        "plt.show() "
      ],
      "execution_count": 5,
      "outputs": [
        {
          "output_type": "display_data",
          "data": {
            "image/png": "[encoded data removed]",
            "text/plain": [
              "<Figure size 432x288 with 1 Axes>"
            ]
          },
          "metadata": {
            "tags": []
          }
        }
      ]
    }
  ]
}